{
 "cells": [
  {
   "cell_type": "code",
   "execution_count": 1,
   "id": "6ec56bab-ae40-46d5-88e5-e4df5ae4bc40",
   "metadata": {
    "tags": []
   },
   "outputs": [],
   "source": [
    "import requests\n",
    "from bs4 import BeautifulSoup\n",
    "import pandas as pd\n",
    "from time import sleep"
   ]
  },
  {
   "cell_type": "markdown",
   "id": "1857b6b5-6dd6-4398-811e-cda6cf1b1a8a",
   "metadata": {},
   "source": [
    "### Request\n",
    "- get request és átlakítás"
   ]
  },
  {
   "cell_type": "code",
   "execution_count": 2,
   "id": "91e1bf27-a824-4059-be71-e3324aa8677f",
   "metadata": {
    "tags": []
   },
   "outputs": [],
   "source": [
    "city = \"I.%20ker%C3%BClet\"\n",
    "\n",
    "response = requests.get(f\"https://data2.openstreetmap.hu/addrtel.php?addr={city}\")\n",
    "text = response.text\n",
    "soup = BeautifulSoup(text, 'html.parser')"
   ]
  },
  {
   "cell_type": "markdown",
   "id": "4f21f097-75bc-4d74-bac7-2e11e285ae66",
   "metadata": {},
   "source": [
    "### Tartalom\n",
    "- a táblázat megkeresése és td tagekben található szövegek kiválogatása"
   ]
  },
  {
   "cell_type": "code",
   "execution_count": 3,
   "id": "54e6c56c-88b0-424a-ad68-5a1cadd25c7a",
   "metadata": {
    "tags": []
   },
   "outputs": [
    {
     "name": "stdout",
     "output_type": "stream",
     "text": [
      "['addr:postcode', 'addr:city', 'addr:street', 'addr:housenumber', 'name', 'Térkép', '', 'OSM id (JOSM link)']\n"
     ]
    }
   ],
   "source": [
    "table = soup.find('table')\n",
    "\n",
    "header = []\n",
    "rows = []\n",
    "for i, row in enumerate(table.find_all('tr')):\n",
    "    if i == 0:\n",
    "        header = [th.text.strip() for th in row.find_all('th')]\n",
    "    else:\n",
    "        rows.append([td.text.strip() for td in row.find_all('td')])\n",
    "print(header)"
   ]
  },
  {
   "cell_type": "markdown",
   "id": "eefd3df1-1cde-4b46-9b6e-d3d92e4af82f",
   "metadata": {},
   "source": [
    "### DataFrame létrehozása"
   ]
  },
  {
   "cell_type": "code",
   "execution_count": 4,
   "id": "183b0154-9b2e-4c7a-8cea-943f101f2e4e",
   "metadata": {
    "tags": []
   },
   "outputs": [],
   "source": [
    "content = []\n",
    "for i, row in enumerate(rows):    \n",
    "    content.append(row[:4])"
   ]
  },
  {
   "cell_type": "code",
   "execution_count": 5,
   "id": "239a358a-83ba-4dfa-864e-58830c93651a",
   "metadata": {
    "tags": []
   },
   "outputs": [],
   "source": [
    "df = pd.DataFrame(content, columns=['POSTCODE', 'CITY', 'STREET', 'NUMBER'])"
   ]
  },
  {
   "cell_type": "code",
   "execution_count": 7,
   "id": "1c4baf36-7f59-42c3-bf07-14728d1881af",
   "metadata": {
    "tags": []
   },
   "outputs": [
    {
     "data": {
      "text/html": [
       "<div>\n",
       "<style scoped>\n",
       "    .dataframe tbody tr th:only-of-type {\n",
       "        vertical-align: middle;\n",
       "    }\n",
       "\n",
       "    .dataframe tbody tr th {\n",
       "        vertical-align: top;\n",
       "    }\n",
       "\n",
       "    .dataframe thead th {\n",
       "        text-align: right;\n",
       "    }\n",
       "</style>\n",
       "<table border=\"1\" class=\"dataframe\">\n",
       "  <thead>\n",
       "    <tr style=\"text-align: right;\">\n",
       "      <th></th>\n",
       "      <th>POSTCODE</th>\n",
       "      <th>CITY</th>\n",
       "      <th>STREET</th>\n",
       "      <th>NUMBER</th>\n",
       "    </tr>\n",
       "  </thead>\n",
       "  <tbody>\n",
       "    <tr>\n",
       "      <th>0</th>\n",
       "      <td>1011</td>\n",
       "      <td>Budapest</td>\n",
       "      <td>Apor Péter utca</td>\n",
       "      <td>1</td>\n",
       "    </tr>\n",
       "    <tr>\n",
       "      <th>1</th>\n",
       "      <td>1011</td>\n",
       "      <td>Budapest</td>\n",
       "      <td>Apor Péter utca</td>\n",
       "      <td>2-4</td>\n",
       "    </tr>\n",
       "    <tr>\n",
       "      <th>2</th>\n",
       "      <td>1011</td>\n",
       "      <td>Budapest</td>\n",
       "      <td>Apor Péter utca</td>\n",
       "      <td>3</td>\n",
       "    </tr>\n",
       "    <tr>\n",
       "      <th>3</th>\n",
       "      <td>1011</td>\n",
       "      <td>Budapest</td>\n",
       "      <td>Aranyhal utca</td>\n",
       "      <td>4</td>\n",
       "    </tr>\n",
       "    <tr>\n",
       "      <th>4</th>\n",
       "      <td>1011</td>\n",
       "      <td>Budapest</td>\n",
       "      <td>Batthyány tér</td>\n",
       "      <td>3</td>\n",
       "    </tr>\n",
       "    <tr>\n",
       "      <th>...</th>\n",
       "      <td>...</td>\n",
       "      <td>...</td>\n",
       "      <td>...</td>\n",
       "      <td>...</td>\n",
       "    </tr>\n",
       "    <tr>\n",
       "      <th>1917</th>\n",
       "      <td></td>\n",
       "      <td>Budapest</td>\n",
       "      <td>Batthyány tér</td>\n",
       "      <td></td>\n",
       "    </tr>\n",
       "    <tr>\n",
       "      <th>1918</th>\n",
       "      <td></td>\n",
       "      <td>Budapest</td>\n",
       "      <td>Batthyány tér</td>\n",
       "      <td></td>\n",
       "    </tr>\n",
       "    <tr>\n",
       "      <th>1919</th>\n",
       "      <td></td>\n",
       "      <td>Budapest</td>\n",
       "      <td>Batthyány tér</td>\n",
       "      <td></td>\n",
       "    </tr>\n",
       "    <tr>\n",
       "      <th>1920</th>\n",
       "      <td></td>\n",
       "      <td>Budapest</td>\n",
       "      <td>Dózsa György tér</td>\n",
       "      <td></td>\n",
       "    </tr>\n",
       "    <tr>\n",
       "      <th>1921</th>\n",
       "      <td></td>\n",
       "      <td>Budapest</td>\n",
       "      <td>Lovas út</td>\n",
       "      <td></td>\n",
       "    </tr>\n",
       "  </tbody>\n",
       "</table>\n",
       "<p>1922 rows × 4 columns</p>\n",
       "</div>"
      ],
      "text/plain": [
       "     POSTCODE      CITY            STREET NUMBER\n",
       "0        1011  Budapest   Apor Péter utca      1\n",
       "1        1011  Budapest   Apor Péter utca    2-4\n",
       "2        1011  Budapest   Apor Péter utca      3\n",
       "3        1011  Budapest     Aranyhal utca      4\n",
       "4        1011  Budapest     Batthyány tér      3\n",
       "...       ...       ...               ...    ...\n",
       "1917           Budapest     Batthyány tér       \n",
       "1918           Budapest     Batthyány tér       \n",
       "1919           Budapest     Batthyány tér       \n",
       "1920           Budapest  Dózsa György tér       \n",
       "1921           Budapest          Lovas út       \n",
       "\n",
       "[1922 rows x 4 columns]"
      ]
     },
     "execution_count": 7,
     "metadata": {},
     "output_type": "execute_result"
    }
   ],
   "source": [
    "df"
   ]
  },
  {
   "cell_type": "markdown",
   "id": "22e647ae-8129-489e-b5bd-e5a68c6c77ec",
   "metadata": {},
   "source": [
    "### Tisztítás\n",
    "- azok a sorok kitörlése, ahol vannak üres cellák"
   ]
  },
  {
   "cell_type": "code",
   "execution_count": 8,
   "id": "7ba2c809-e28c-4dc3-9320-2d221544e6ed",
   "metadata": {
    "tags": []
   },
   "outputs": [],
   "source": [
    "df = df[df['STREET'].str.len() > 1]\n",
    "df = df[df['CITY'].str.len() > 1]\n",
    "df = df[df['NUMBER'].str.len() > 1]\n",
    "df = df[df['POSTCODE'].str.len() > 1]"
   ]
  },
  {
   "cell_type": "code",
   "execution_count": 9,
   "id": "d440fbc7-0a98-4277-8295-a4002087205e",
   "metadata": {
    "tags": []
   },
   "outputs": [
    {
     "data": {
      "text/html": [
       "<div>\n",
       "<style scoped>\n",
       "    .dataframe tbody tr th:only-of-type {\n",
       "        vertical-align: middle;\n",
       "    }\n",
       "\n",
       "    .dataframe tbody tr th {\n",
       "        vertical-align: top;\n",
       "    }\n",
       "\n",
       "    .dataframe thead th {\n",
       "        text-align: right;\n",
       "    }\n",
       "</style>\n",
       "<table border=\"1\" class=\"dataframe\">\n",
       "  <thead>\n",
       "    <tr style=\"text-align: right;\">\n",
       "      <th></th>\n",
       "      <th>POSTCODE</th>\n",
       "      <th>CITY</th>\n",
       "      <th>STREET</th>\n",
       "      <th>NUMBER</th>\n",
       "    </tr>\n",
       "  </thead>\n",
       "  <tbody>\n",
       "    <tr>\n",
       "      <th>1</th>\n",
       "      <td>1011</td>\n",
       "      <td>Budapest</td>\n",
       "      <td>Apor Péter utca</td>\n",
       "      <td>2-4</td>\n",
       "    </tr>\n",
       "    <tr>\n",
       "      <th>6</th>\n",
       "      <td>1011</td>\n",
       "      <td>Budapest</td>\n",
       "      <td>Batthyány tér</td>\n",
       "      <td>5-6</td>\n",
       "    </tr>\n",
       "    <tr>\n",
       "      <th>7</th>\n",
       "      <td>1011</td>\n",
       "      <td>Budapest</td>\n",
       "      <td>Batthyány tér</td>\n",
       "      <td>5-6</td>\n",
       "    </tr>\n",
       "    <tr>\n",
       "      <th>8</th>\n",
       "      <td>1011</td>\n",
       "      <td>Budapest</td>\n",
       "      <td>Batthyány tér</td>\n",
       "      <td>5-6</td>\n",
       "    </tr>\n",
       "    <tr>\n",
       "      <th>23</th>\n",
       "      <td>1011</td>\n",
       "      <td>Budapest</td>\n",
       "      <td>Bem rakpart</td>\n",
       "      <td>11</td>\n",
       "    </tr>\n",
       "    <tr>\n",
       "      <th>...</th>\n",
       "      <td>...</td>\n",
       "      <td>...</td>\n",
       "      <td>...</td>\n",
       "      <td>...</td>\n",
       "    </tr>\n",
       "    <tr>\n",
       "      <th>1877</th>\n",
       "      <td>1016</td>\n",
       "      <td>Budapest</td>\n",
       "      <td>Tigris utca</td>\n",
       "      <td>64</td>\n",
       "    </tr>\n",
       "    <tr>\n",
       "      <th>1892</th>\n",
       "      <td>1016</td>\n",
       "      <td>Budapest</td>\n",
       "      <td>Zsolt utca</td>\n",
       "      <td>10b</td>\n",
       "    </tr>\n",
       "    <tr>\n",
       "      <th>1893</th>\n",
       "      <td>1016</td>\n",
       "      <td>Budapest</td>\n",
       "      <td>Zsolt utca</td>\n",
       "      <td>11</td>\n",
       "    </tr>\n",
       "    <tr>\n",
       "      <th>1900</th>\n",
       "      <td>1250</td>\n",
       "      <td>Budapest</td>\n",
       "      <td>Dísz tér</td>\n",
       "      <td>15</td>\n",
       "    </tr>\n",
       "    <tr>\n",
       "      <th>1906</th>\n",
       "      <td>1870</td>\n",
       "      <td>Budapest</td>\n",
       "      <td>Krisztina körút</td>\n",
       "      <td>37/a</td>\n",
       "    </tr>\n",
       "  </tbody>\n",
       "</table>\n",
       "<p>1299 rows × 4 columns</p>\n",
       "</div>"
      ],
      "text/plain": [
       "     POSTCODE      CITY           STREET NUMBER\n",
       "1        1011  Budapest  Apor Péter utca    2-4\n",
       "6        1011  Budapest    Batthyány tér    5-6\n",
       "7        1011  Budapest    Batthyány tér    5-6\n",
       "8        1011  Budapest    Batthyány tér    5-6\n",
       "23       1011  Budapest      Bem rakpart     11\n",
       "...       ...       ...              ...    ...\n",
       "1877     1016  Budapest      Tigris utca     64\n",
       "1892     1016  Budapest       Zsolt utca    10b\n",
       "1893     1016  Budapest       Zsolt utca     11\n",
       "1900     1250  Budapest         Dísz tér     15\n",
       "1906     1870  Budapest  Krisztina körút   37/a\n",
       "\n",
       "[1299 rows x 4 columns]"
      ]
     },
     "execution_count": 9,
     "metadata": {},
     "output_type": "execute_result"
    }
   ],
   "source": [
    "df"
   ]
  },
  {
   "cell_type": "markdown",
   "id": "40bb877e-ba66-47bd-8f4f-18519526e7db",
   "metadata": {},
   "source": [
    "### Házszám és utca összefűzése"
   ]
  },
  {
   "cell_type": "code",
   "execution_count": 10,
   "id": "d5f71dee-e3a2-42fb-9a2b-b722ebfbdf67",
   "metadata": {
    "tags": []
   },
   "outputs": [],
   "source": [
    "df['ADDRESS'] = df['STREET'] + ' ' + df['NUMBER']\n",
    "df.drop(['STREET', 'NUMBER'], axis=1, inplace=True)"
   ]
  },
  {
   "cell_type": "code",
   "execution_count": 11,
   "id": "79d46f22-acd9-4983-aa17-ad62f1342eb3",
   "metadata": {
    "tags": []
   },
   "outputs": [
    {
     "data": {
      "text/html": [
       "<div>\n",
       "<style scoped>\n",
       "    .dataframe tbody tr th:only-of-type {\n",
       "        vertical-align: middle;\n",
       "    }\n",
       "\n",
       "    .dataframe tbody tr th {\n",
       "        vertical-align: top;\n",
       "    }\n",
       "\n",
       "    .dataframe thead th {\n",
       "        text-align: right;\n",
       "    }\n",
       "</style>\n",
       "<table border=\"1\" class=\"dataframe\">\n",
       "  <thead>\n",
       "    <tr style=\"text-align: right;\">\n",
       "      <th></th>\n",
       "      <th>POSTCODE</th>\n",
       "      <th>CITY</th>\n",
       "      <th>ADDRESS</th>\n",
       "    </tr>\n",
       "  </thead>\n",
       "  <tbody>\n",
       "    <tr>\n",
       "      <th>1</th>\n",
       "      <td>1011</td>\n",
       "      <td>Budapest</td>\n",
       "      <td>Apor Péter utca 2-4</td>\n",
       "    </tr>\n",
       "    <tr>\n",
       "      <th>6</th>\n",
       "      <td>1011</td>\n",
       "      <td>Budapest</td>\n",
       "      <td>Batthyány tér 5-6</td>\n",
       "    </tr>\n",
       "    <tr>\n",
       "      <th>7</th>\n",
       "      <td>1011</td>\n",
       "      <td>Budapest</td>\n",
       "      <td>Batthyány tér 5-6</td>\n",
       "    </tr>\n",
       "    <tr>\n",
       "      <th>8</th>\n",
       "      <td>1011</td>\n",
       "      <td>Budapest</td>\n",
       "      <td>Batthyány tér 5-6</td>\n",
       "    </tr>\n",
       "    <tr>\n",
       "      <th>23</th>\n",
       "      <td>1011</td>\n",
       "      <td>Budapest</td>\n",
       "      <td>Bem rakpart 11</td>\n",
       "    </tr>\n",
       "    <tr>\n",
       "      <th>...</th>\n",
       "      <td>...</td>\n",
       "      <td>...</td>\n",
       "      <td>...</td>\n",
       "    </tr>\n",
       "    <tr>\n",
       "      <th>1877</th>\n",
       "      <td>1016</td>\n",
       "      <td>Budapest</td>\n",
       "      <td>Tigris utca 64</td>\n",
       "    </tr>\n",
       "    <tr>\n",
       "      <th>1892</th>\n",
       "      <td>1016</td>\n",
       "      <td>Budapest</td>\n",
       "      <td>Zsolt utca 10b</td>\n",
       "    </tr>\n",
       "    <tr>\n",
       "      <th>1893</th>\n",
       "      <td>1016</td>\n",
       "      <td>Budapest</td>\n",
       "      <td>Zsolt utca 11</td>\n",
       "    </tr>\n",
       "    <tr>\n",
       "      <th>1900</th>\n",
       "      <td>1250</td>\n",
       "      <td>Budapest</td>\n",
       "      <td>Dísz tér 15</td>\n",
       "    </tr>\n",
       "    <tr>\n",
       "      <th>1906</th>\n",
       "      <td>1870</td>\n",
       "      <td>Budapest</td>\n",
       "      <td>Krisztina körút 37/a</td>\n",
       "    </tr>\n",
       "  </tbody>\n",
       "</table>\n",
       "<p>1299 rows × 3 columns</p>\n",
       "</div>"
      ],
      "text/plain": [
       "     POSTCODE      CITY               ADDRESS\n",
       "1        1011  Budapest   Apor Péter utca 2-4\n",
       "6        1011  Budapest     Batthyány tér 5-6\n",
       "7        1011  Budapest     Batthyány tér 5-6\n",
       "8        1011  Budapest     Batthyány tér 5-6\n",
       "23       1011  Budapest        Bem rakpart 11\n",
       "...       ...       ...                   ...\n",
       "1877     1016  Budapest        Tigris utca 64\n",
       "1892     1016  Budapest        Zsolt utca 10b\n",
       "1893     1016  Budapest         Zsolt utca 11\n",
       "1900     1250  Budapest           Dísz tér 15\n",
       "1906     1870  Budapest  Krisztina körút 37/a\n",
       "\n",
       "[1299 rows x 3 columns]"
      ]
     },
     "execution_count": 11,
     "metadata": {},
     "output_type": "execute_result"
    }
   ],
   "source": [
    "df"
   ]
  },
  {
   "cell_type": "code",
   "execution_count": null,
   "id": "ca41a575-4f87-4991-b640-8639eb33ea50",
   "metadata": {},
   "outputs": [],
   "source": []
  }
 ],
 "metadata": {
  "kernelspec": {
   "display_name": "Python 3 (ipykernel)",
   "language": "python",
   "name": "python3"
  },
  "language_info": {
   "codemirror_mode": {
    "name": "ipython",
    "version": 3
   },
   "file_extension": ".py",
   "mimetype": "text/x-python",
   "name": "python",
   "nbconvert_exporter": "python",
   "pygments_lexer": "ipython3",
   "version": "3.10.7"
  }
 },
 "nbformat": 4,
 "nbformat_minor": 5
}
