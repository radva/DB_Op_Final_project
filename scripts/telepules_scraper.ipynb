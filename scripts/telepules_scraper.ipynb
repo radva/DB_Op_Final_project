{
 "cells": [
  {
   "cell_type": "code",
   "execution_count": null,
   "id": "38554af3-867a-414a-9b54-ec27bd881904",
   "metadata": {
    "tags": []
   },
   "outputs": [],
   "source": [
    "import requests\n",
    "from bs4 import BeautifulSoup\n",
    "import pandas as pd\n",
    "from time import sleep"
   ]
  },
  {
   "cell_type": "code",
   "execution_count": null,
   "id": "c196d90a-d881-492d-bfca-53ecb0797796",
   "metadata": {
    "tags": []
   },
   "outputs": [],
   "source": [
    "def city_scraper(page):\n",
    "    print(f\"{page}, \", end = \"\")\n",
    "    sleep(5)\n",
    "    response = requests.get(f\"https://www.turabazis.hu/telepules_lista_0_0_n_n_n_n_0_n_0_n_0_n_n_n_n_{page}\")\n",
    "    text = response.text\n",
    "    soup = BeautifulSoup(text, 'html.parser')    \n",
    "    table = soup.find('table')\n",
    "    \n",
    "    header = []\n",
    "    rows = []\n",
    "    for i, row in enumerate(table.find_all('tr')):\n",
    "        if i == 0:\n",
    "            header = [el.text.strip() for el in row.find_all('th')]\n",
    "        else:\n",
    "            rows.append([el.text.strip() for el in row.find_all('td')])\n",
    "            \n",
    "    content = []\n",
    "    for i, row in enumerate(rows):\n",
    "        content.append([row[0], row[2], row[3], row[4], row[5]])\n",
    "        \n",
    "    df = pd.DataFrame(content, columns=['City', 'County', 'Type', 'Territory', 'Population'])\n",
    "    return df"
   ]
  },
  {
   "cell_type": "code",
   "execution_count": null,
   "id": "9e2b3df8-5e49-4392-9afd-425e43d19966",
   "metadata": {
    "tags": []
   },
   "outputs": [],
   "source": [
    "df = pd.DataFrame()\n",
    "all_df = pd.DataFrame()\n",
    "\n",
    "for i in range(159):\n",
    "    df = city_scraper(i)\n",
    "    all_df = pd.concat([all_df, df], ignore_index=True)\n",
    "print(\"\\n=========== DONE ===========\")"
   ]
  },
  {
   "cell_type": "code",
   "execution_count": 29,
   "id": "97e1365b-8765-48b9-b16f-94bf1fe6d2a5",
   "metadata": {
    "tags": []
   },
   "outputs": [
    {
     "data": {
      "text/html": [
       "<div>\n",
       "<style scoped>\n",
       "    .dataframe tbody tr th:only-of-type {\n",
       "        vertical-align: middle;\n",
       "    }\n",
       "\n",
       "    .dataframe tbody tr th {\n",
       "        vertical-align: top;\n",
       "    }\n",
       "\n",
       "    .dataframe thead th {\n",
       "        text-align: right;\n",
       "    }\n",
       "</style>\n",
       "<table border=\"1\" class=\"dataframe\">\n",
       "  <thead>\n",
       "    <tr style=\"text-align: right;\">\n",
       "      <th></th>\n",
       "      <th>City</th>\n",
       "      <th>County</th>\n",
       "      <th>Type</th>\n",
       "      <th>Territory</th>\n",
       "      <th>Population</th>\n",
       "    </tr>\n",
       "  </thead>\n",
       "  <tbody>\n",
       "    <tr>\n",
       "      <th>0</th>\n",
       "      <td>Aba</td>\n",
       "      <td>Fejér</td>\n",
       "      <td>város</td>\n",
       "      <td>8805</td>\n",
       "      <td>4484</td>\n",
       "    </tr>\n",
       "    <tr>\n",
       "      <th>1</th>\n",
       "      <td>Abádszalók</td>\n",
       "      <td>Jász-Nagykun-Szolnok</td>\n",
       "      <td>város</td>\n",
       "      <td>13223</td>\n",
       "      <td>4328</td>\n",
       "    </tr>\n",
       "    <tr>\n",
       "      <th>2</th>\n",
       "      <td>Abaliget</td>\n",
       "      <td>Baranya</td>\n",
       "      <td>község</td>\n",
       "      <td>1609</td>\n",
       "      <td>618</td>\n",
       "    </tr>\n",
       "    <tr>\n",
       "      <th>3</th>\n",
       "      <td>Abasár</td>\n",
       "      <td>Heves</td>\n",
       "      <td>község</td>\n",
       "      <td>2082</td>\n",
       "      <td>2567</td>\n",
       "    </tr>\n",
       "    <tr>\n",
       "      <th>4</th>\n",
       "      <td>Abaújalpár</td>\n",
       "      <td>Borsod-Abaúj-Zemplén</td>\n",
       "      <td>község</td>\n",
       "      <td>848</td>\n",
       "      <td>72</td>\n",
       "    </tr>\n",
       "    <tr>\n",
       "      <th>...</th>\n",
       "      <td>...</td>\n",
       "      <td>...</td>\n",
       "      <td>...</td>\n",
       "      <td>...</td>\n",
       "      <td>...</td>\n",
       "    </tr>\n",
       "    <tr>\n",
       "      <th>3174</th>\n",
       "      <td>Zsira</td>\n",
       "      <td>Győr-Moson-Sopron</td>\n",
       "      <td>község</td>\n",
       "      <td>1468</td>\n",
       "      <td>829</td>\n",
       "    </tr>\n",
       "    <tr>\n",
       "      <th>3175</th>\n",
       "      <td>Zsombó</td>\n",
       "      <td>Csongrád</td>\n",
       "      <td>község</td>\n",
       "      <td>2689</td>\n",
       "      <td>3364</td>\n",
       "    </tr>\n",
       "    <tr>\n",
       "      <th>3176</th>\n",
       "      <td>Zsujta</td>\n",
       "      <td>Borsod-Abaúj-Zemplén</td>\n",
       "      <td>község</td>\n",
       "      <td>673</td>\n",
       "      <td>162</td>\n",
       "    </tr>\n",
       "    <tr>\n",
       "      <th>3177</th>\n",
       "      <td>Zsurk</td>\n",
       "      <td>Szabolcs-Szatmár-Bereg</td>\n",
       "      <td>község</td>\n",
       "      <td>1539</td>\n",
       "      <td>746</td>\n",
       "    </tr>\n",
       "    <tr>\n",
       "      <th>3178</th>\n",
       "      <td>Zubogy</td>\n",
       "      <td>Borsod-Abaúj-Zemplén</td>\n",
       "      <td>község</td>\n",
       "      <td>1143</td>\n",
       "      <td>577</td>\n",
       "    </tr>\n",
       "  </tbody>\n",
       "</table>\n",
       "<p>3179 rows × 5 columns</p>\n",
       "</div>"
      ],
      "text/plain": [
       "            City                  County    Type Territory Population\n",
       "0            Aba                   Fejér   város      8805       4484\n",
       "1     Abádszalók    Jász-Nagykun-Szolnok   város     13223       4328\n",
       "2       Abaliget                 Baranya  község      1609        618\n",
       "3         Abasár                   Heves  község      2082       2567\n",
       "4     Abaújalpár    Borsod-Abaúj-Zemplén  község       848         72\n",
       "...          ...                     ...     ...       ...        ...\n",
       "3174       Zsira       Győr-Moson-Sopron  község      1468        829\n",
       "3175      Zsombó                Csongrád  község      2689       3364\n",
       "3176      Zsujta    Borsod-Abaúj-Zemplén  község       673        162\n",
       "3177       Zsurk  Szabolcs-Szatmár-Bereg  község      1539        746\n",
       "3178      Zubogy    Borsod-Abaúj-Zemplén  község      1143        577\n",
       "\n",
       "[3179 rows x 5 columns]"
      ]
     },
     "execution_count": 29,
     "metadata": {},
     "output_type": "execute_result"
    }
   ],
   "source": [
    "all_df"
   ]
  },
  {
   "cell_type": "code",
   "execution_count": null,
   "id": "ad0acd26-fa6a-476a-bef6-54662051e8f0",
   "metadata": {
    "tags": []
   },
   "outputs": [],
   "source": [
    "all_df.to_csv(r'C:\\vremek\\magyar_telepulesek.csv', sep=';', index=False)"
   ]
  }
 ],
 "metadata": {
  "kernelspec": {
   "display_name": "Python 3 (ipykernel)",
   "language": "python",
   "name": "python3"
  },
  "language_info": {
   "codemirror_mode": {
    "name": "ipython",
    "version": 3
   },
   "file_extension": ".py",
   "mimetype": "text/x-python",
   "name": "python",
   "nbconvert_exporter": "python",
   "pygments_lexer": "ipython3",
   "version": "3.10.7"
  }
 },
 "nbformat": 4,
 "nbformat_minor": 5
}
