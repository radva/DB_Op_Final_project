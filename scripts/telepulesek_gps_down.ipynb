{
 "cells": [
  {
   "cell_type": "code",
   "execution_count": 1,
   "id": "9a70b1b1-e05b-4a9f-8a8c-b9b1bfccd8ca",
   "metadata": {
    "tags": []
   },
   "outputs": [],
   "source": [
    "import pyodbc\n",
    "import pandas as pd\n",
    "import requests\n",
    "from time import sleep\n",
    "import json"
   ]
  },
  {
   "cell_type": "code",
   "execution_count": 7,
   "id": "b43ff58b-ac94-493d-981b-368a8f8ea8d2",
   "metadata": {
    "tags": []
   },
   "outputs": [],
   "source": [
    "df = pd.read_csv(r'C:\\vremek\\adatok\\telepulesek_lista.csv', delimiter=';')"
   ]
  },
  {
   "cell_type": "code",
   "execution_count": 8,
   "id": "ba92a7ab-a707-48c2-b6ce-c625676a033c",
   "metadata": {
    "tags": []
   },
   "outputs": [
    {
     "data": {
      "text/html": [
       "<div>\n",
       "<style scoped>\n",
       "    .dataframe tbody tr th:only-of-type {\n",
       "        vertical-align: middle;\n",
       "    }\n",
       "\n",
       "    .dataframe tbody tr th {\n",
       "        vertical-align: top;\n",
       "    }\n",
       "\n",
       "    .dataframe thead th {\n",
       "        text-align: right;\n",
       "    }\n",
       "</style>\n",
       "<table border=\"1\" class=\"dataframe\">\n",
       "  <thead>\n",
       "    <tr style=\"text-align: right;\">\n",
       "      <th></th>\n",
       "      <th>Telepules</th>\n",
       "    </tr>\n",
       "  </thead>\n",
       "  <tbody>\n",
       "    <tr>\n",
       "      <th>0</th>\n",
       "      <td>Aba</td>\n",
       "    </tr>\n",
       "    <tr>\n",
       "      <th>1</th>\n",
       "      <td>Abádszalók</td>\n",
       "    </tr>\n",
       "    <tr>\n",
       "      <th>2</th>\n",
       "      <td>Abaliget</td>\n",
       "    </tr>\n",
       "    <tr>\n",
       "      <th>3</th>\n",
       "      <td>Abasár</td>\n",
       "    </tr>\n",
       "    <tr>\n",
       "      <th>4</th>\n",
       "      <td>Abaújalpár</td>\n",
       "    </tr>\n",
       "    <tr>\n",
       "      <th>...</th>\n",
       "      <td>...</td>\n",
       "    </tr>\n",
       "    <tr>\n",
       "      <th>3150</th>\n",
       "      <td>Zsennye</td>\n",
       "    </tr>\n",
       "    <tr>\n",
       "      <th>3151</th>\n",
       "      <td>Zsira</td>\n",
       "    </tr>\n",
       "    <tr>\n",
       "      <th>3152</th>\n",
       "      <td>Zsombó</td>\n",
       "    </tr>\n",
       "    <tr>\n",
       "      <th>3153</th>\n",
       "      <td>Zsujta</td>\n",
       "    </tr>\n",
       "    <tr>\n",
       "      <th>3154</th>\n",
       "      <td>Zsurk</td>\n",
       "    </tr>\n",
       "  </tbody>\n",
       "</table>\n",
       "<p>3155 rows × 1 columns</p>\n",
       "</div>"
      ],
      "text/plain": [
       "       Telepules\n",
       "0            Aba\n",
       "1     Abádszalók\n",
       "2       Abaliget\n",
       "3         Abasár\n",
       "4     Abaújalpár\n",
       "...          ...\n",
       "3150     Zsennye\n",
       "3151       Zsira\n",
       "3152      Zsombó\n",
       "3153      Zsujta\n",
       "3154       Zsurk\n",
       "\n",
       "[3155 rows x 1 columns]"
      ]
     },
     "execution_count": 8,
     "metadata": {},
     "output_type": "execute_result"
    }
   ],
   "source": [
    "df"
   ]
  },
  {
   "cell_type": "code",
   "execution_count": 9,
   "id": "04f29477-2c9e-4ded-a2e5-afaef7e90682",
   "metadata": {
    "tags": []
   },
   "outputs": [],
   "source": [
    "telepules_json = {}"
   ]
  },
  {
   "cell_type": "code",
   "execution_count": 10,
   "id": "1710946c-4669-495a-80da-9790742141e6",
   "metadata": {
    "tags": []
   },
   "outputs": [],
   "source": [
    "for i, telep in enumerate(df['Telepules']):\n",
    "    url = f\"https://nominatim.openstreetmap.org/search.php?q={telep}&format=json&polygon_text=1&addressdetails=1\"\n",
    "    response = requests.get(url).json()\n",
    "    \n",
    "    telepules_json[df['Telepules'][i]] = response\n",
    "    sleep(1)"
   ]
  },
  {
   "cell_type": "code",
   "execution_count": 11,
   "id": "24ca6c15-97dd-47d4-8de0-084b8657b59d",
   "metadata": {
    "tags": []
   },
   "outputs": [
    {
     "data": {
      "text/plain": [
       "3155"
      ]
     },
     "execution_count": 11,
     "metadata": {},
     "output_type": "execute_result"
    }
   ],
   "source": [
    "len(telepules_json.keys())"
   ]
  },
  {
   "cell_type": "code",
   "execution_count": 12,
   "id": "1fdc0b0e-f8aa-4bdf-97a0-1586c83bd502",
   "metadata": {
    "tags": []
   },
   "outputs": [],
   "source": [
    "with open(r'C:\\vremek\\adatok\\telepulesek_polygon.json', 'w') as f:\n",
    "     f.write(json.dumps(telepules_json))"
   ]
  },
  {
   "cell_type": "code",
   "execution_count": null,
   "id": "95b363e8-211a-4d2b-b0cd-035202c1c59a",
   "metadata": {},
   "outputs": [],
   "source": []
  }
 ],
 "metadata": {
  "kernelspec": {
   "display_name": "Python 3 (ipykernel)",
   "language": "python",
   "name": "python3"
  },
  "language_info": {
   "codemirror_mode": {
    "name": "ipython",
    "version": 3
   },
   "file_extension": ".py",
   "mimetype": "text/x-python",
   "name": "python",
   "nbconvert_exporter": "python",
   "pygments_lexer": "ipython3",
   "version": "3.10.7"
  }
 },
 "nbformat": 4,
 "nbformat_minor": 5
}
